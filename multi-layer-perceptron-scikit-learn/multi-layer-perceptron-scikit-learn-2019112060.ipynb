{
 "cells": [
  {
   "cell_type": "markdown",
   "metadata": {
    "pycharm": {
     "name": "#%% md\n"
    }
   },
   "source": [
    "# Training a Multi-layer Neural Networks Using Scikit-learn"
   ]
  },
  {
   "cell_type": "markdown",
   "metadata": {
    "pycharm": {
     "name": "#%% md\n"
    }
   },
   "source": [
    "### Load MNIST Dataset"
   ]
  },
  {
   "cell_type": "code",
   "execution_count": 1,
   "metadata": {
    "pycharm": {
     "name": "#%%\n"
    }
   },
   "outputs": [
    {
     "data": {
      "text/plain": "{'__header__': b'MATLAB 5.0 MAT-file Platform: posix, Created on: Sun Mar 30 03:19:02 2014',\n '__version__': '1.0',\n '__globals__': [],\n 'mldata_descr_ordering': array([[array(['label'], dtype='<U5'), array(['data'], dtype='<U4')]],\n       dtype=object),\n 'data': array([[0, 0, 0, ..., 0, 0, 0],\n        [0, 0, 0, ..., 0, 0, 0],\n        [0, 0, 0, ..., 0, 0, 0],\n        ...,\n        [0, 0, 0, ..., 0, 0, 0],\n        [0, 0, 0, ..., 0, 0, 0],\n        [0, 0, 0, ..., 0, 0, 0]], dtype=uint8),\n 'label': array([[0., 0., 0., ..., 9., 9., 9.]])}"
     },
     "execution_count": 1,
     "metadata": {},
     "output_type": "execute_result"
    }
   ],
   "source": [
    "# from sklearn.datasets import fetch_mldata\n",
    "import matplotlib.pyplot as plt\n",
    "import numpy as np\n",
    "from scipy import io\n",
    "\n",
    "mnist = io.loadmat('mnist-original.mat')\n",
    "mnist"
   ]
  },
  {
   "cell_type": "markdown",
   "metadata": {
    "pycharm": {
     "name": "#%% md\n"
    }
   },
   "source": [
    "### Splitting data"
   ]
  },
  {
   "cell_type": "code",
   "execution_count": 2,
   "metadata": {
    "pycharm": {
     "name": "#%%\n"
    }
   },
   "outputs": [
    {
     "data": {
      "text/plain": "(784, 70000)"
     },
     "execution_count": 2,
     "metadata": {},
     "output_type": "execute_result"
    }
   ],
   "source": [
    "X, y = mnist['data'], mnist['label']\n",
    "X.shape"
   ]
  },
  {
   "cell_type": "code",
   "execution_count": 3,
   "metadata": {
    "pycharm": {
     "name": "#%%\n"
    }
   },
   "outputs": [
    {
     "data": {
      "text/plain": "(1, 70000)"
     },
     "execution_count": 3,
     "metadata": {},
     "output_type": "execute_result"
    }
   ],
   "source": [
    "y.shape"
   ]
  },
  {
   "cell_type": "code",
   "execution_count": 4,
   "metadata": {
    "pycharm": {
     "name": "#%%\n"
    }
   },
   "outputs": [
    {
     "data": {
      "text/plain": "(70000, 784)"
     },
     "execution_count": 4,
     "metadata": {},
     "output_type": "execute_result"
    }
   ],
   "source": [
    "X = np.array(X).T # transpose\n",
    "X.shape"
   ]
  },
  {
   "cell_type": "code",
   "execution_count": 5,
   "metadata": {
    "pycharm": {
     "name": "#%%\n"
    }
   },
   "outputs": [
    {
     "data": {
      "text/plain": "(70000, 1)"
     },
     "execution_count": 5,
     "metadata": {},
     "output_type": "execute_result"
    }
   ],
   "source": [
    "y = np.array(y).T\n",
    "y.shape"
   ]
  },
  {
   "cell_type": "code",
   "execution_count": 6,
   "metadata": {
    "pycharm": {
     "name": "#%%\n"
    }
   },
   "outputs": [
    {
     "data": {
      "text/plain": "array([  0,   0,   0,   0,   0,   0,   0,   0,   0,   0,   0,   0,   0,\n         0,   0,   0,   0,   0,   0,   0,   0,   0,   0,   0,   0,   0,\n         0,   0,   0,   0,   0,   0,   0,   0,   0,   0,   0,   0,   0,\n         0,   0,   0,   0,   0,   0,   0,   0,   0,   0,   0,   0,   0,\n         0,   0,   0,   0,   0,   0,   0,   0,   0,   0,   0,   0,   0,\n         0,   0,   0,   0,   0,   0,   0,   0,   0,   0,   0,   0,   0,\n         0,   0,   0,   0,   0,   0,   0,   0,   0,   0,   0,   0,   0,\n         0,   0,   0,   0,   0,   0,   0,   0,   0,   0,   0,   0,   0,\n         0,   0,   0,   0,   0,   0,   0,   0,   0,   0,   0,   0,   0,\n         0,   0,   0,   0,   0,   0,   0,   0,   0,   0,  51, 159, 253,\n       159,  50,   0,   0,   0,   0,   0,   0,   0,   0,   0,   0,   0,\n         0,   0,   0,   0,   0,   0,   0,   0,   0,   0,   0,  48, 238,\n       252, 252, 252, 237,   0,   0,   0,   0,   0,   0,   0,   0,   0,\n         0,   0,   0,   0,   0,   0,   0,   0,   0,   0,   0,   0,  54,\n       227, 253, 252, 239, 233, 252,  57,   6,   0,   0,   0,   0,   0,\n         0,   0,   0,   0,   0,   0,   0,   0,   0,   0,   0,   0,  10,\n        60, 224, 252, 253, 252, 202,  84, 252, 253, 122,   0,   0,   0,\n         0,   0,   0,   0,   0,   0,   0,   0,   0,   0,   0,   0,   0,\n         0, 163, 252, 252, 252, 253, 252, 252,  96, 189, 253, 167,   0,\n         0,   0,   0,   0,   0,   0,   0,   0,   0,   0,   0,   0,   0,\n         0,   0,  51, 238, 253, 253, 190, 114, 253, 228,  47,  79, 255,\n       168,   0,   0,   0,   0,   0,   0,   0,   0,   0,   0,   0,   0,\n         0,   0,   0,  48, 238, 252, 252, 179,  12,  75, 121,  21,   0,\n         0, 253, 243,  50,   0,   0,   0,   0,   0,   0,   0,   0,   0,\n         0,   0,   0,   0,  38, 165, 253, 233, 208,  84,   0,   0,   0,\n         0,   0,   0, 253, 252, 165,   0,   0,   0,   0,   0,   0,   0,\n         0,   0,   0,   0,   0,   7, 178, 252, 240,  71,  19,  28,   0,\n         0,   0,   0,   0,   0, 253, 252, 195,   0,   0,   0,   0,   0,\n         0,   0,   0,   0,   0,   0,   0,  57, 252, 252,  63,   0,   0,\n         0,   0,   0,   0,   0,   0,   0, 253, 252, 195,   0,   0,   0,\n         0,   0,   0,   0,   0,   0,   0,   0,   0, 198, 253, 190,   0,\n         0,   0,   0,   0,   0,   0,   0,   0,   0, 255, 253, 196,   0,\n         0,   0,   0,   0,   0,   0,   0,   0,   0,   0,  76, 246, 252,\n       112,   0,   0,   0,   0,   0,   0,   0,   0,   0,   0, 253, 252,\n       148,   0,   0,   0,   0,   0,   0,   0,   0,   0,   0,   0,  85,\n       252, 230,  25,   0,   0,   0,   0,   0,   0,   0,   0,   7, 135,\n       253, 186,  12,   0,   0,   0,   0,   0,   0,   0,   0,   0,   0,\n         0,  85, 252, 223,   0,   0,   0,   0,   0,   0,   0,   0,   7,\n       131, 252, 225,  71,   0,   0,   0,   0,   0,   0,   0,   0,   0,\n         0,   0,   0,  85, 252, 145,   0,   0,   0,   0,   0,   0,   0,\n        48, 165, 252, 173,   0,   0,   0,   0,   0,   0,   0,   0,   0,\n         0,   0,   0,   0,   0,  86, 253, 225,   0,   0,   0,   0,   0,\n         0, 114, 238, 253, 162,   0,   0,   0,   0,   0,   0,   0,   0,\n         0,   0,   0,   0,   0,   0,   0,  85, 252, 249, 146,  48,  29,\n        85, 178, 225, 253, 223, 167,  56,   0,   0,   0,   0,   0,   0,\n         0,   0,   0,   0,   0,   0,   0,   0,   0,  85, 252, 252, 252,\n       229, 215, 252, 252, 252, 196, 130,   0,   0,   0,   0,   0,   0,\n         0,   0,   0,   0,   0,   0,   0,   0,   0,   0,   0,  28, 199,\n       252, 252, 253, 252, 252, 233, 145,   0,   0,   0,   0,   0,   0,\n         0,   0,   0,   0,   0,   0,   0,   0,   0,   0,   0,   0,   0,\n         0,  25, 128, 252, 253, 252, 141,  37,   0,   0,   0,   0,   0,\n         0,   0,   0,   0,   0,   0,   0,   0,   0,   0,   0,   0,   0,\n         0,   0,   0,   0,   0,   0,   0,   0,   0,   0,   0,   0,   0,\n         0,   0,   0,   0,   0,   0,   0,   0,   0,   0,   0,   0,   0,\n         0,   0,   0,   0,   0,   0,   0,   0,   0,   0,   0,   0,   0,\n         0,   0,   0,   0,   0,   0,   0,   0,   0,   0,   0,   0,   0,\n         0,   0,   0,   0,   0,   0,   0,   0,   0,   0,   0,   0,   0,\n         0,   0,   0,   0,   0,   0,   0,   0,   0,   0,   0,   0,   0,\n         0,   0,   0,   0,   0,   0,   0,   0,   0,   0,   0,   0,   0,\n         0,   0,   0,   0,   0,   0,   0,   0,   0,   0,   0,   0,   0,\n         0,   0,   0,   0], dtype=uint8)"
     },
     "execution_count": 6,
     "metadata": {},
     "output_type": "execute_result"
    }
   ],
   "source": [
    "X[0]"
   ]
  },
  {
   "cell_type": "code",
   "execution_count": 7,
   "metadata": {
    "pycharm": {
     "name": "#%%\n"
    }
   },
   "outputs": [
    {
     "data": {
      "text/plain": "array([0.])"
     },
     "execution_count": 7,
     "metadata": {},
     "output_type": "execute_result"
    }
   ],
   "source": [
    "y[0]"
   ]
  },
  {
   "cell_type": "code",
   "execution_count": 8,
   "metadata": {
    "pycharm": {
     "name": "#%%\n"
    }
   },
   "outputs": [
    {
     "data": {
      "text/plain": "<function matplotlib.pyplot.plot(*args, scalex=True, scaley=True, data=None, **kwargs)>"
     },
     "execution_count": 8,
     "metadata": {},
     "output_type": "execute_result"
    },
    {
     "data": {
      "text/plain": "<Figure size 640x480 with 1 Axes>",
      "image/png": "[encoded data removed]"
     },
     "metadata": {},
     "output_type": "display_data"
    }
   ],
   "source": [
    "%matplotlib inline \n",
    "ex1 = X[0] \n",
    "ex1_image = ex1.reshape(28, 28) \n",
    "plt.imshow(ex1_image) \n",
    "plt.plot"
   ]
  },
  {
   "cell_type": "code",
   "execution_count": 9,
   "metadata": {
    "pycharm": {
     "name": "#%%\n"
    }
   },
   "outputs": [],
   "source": [
    "X = X / 255.0"
   ]
  },
  {
   "cell_type": "code",
   "execution_count": 10,
   "metadata": {
    "pycharm": {
     "name": "#%%\n"
    }
   },
   "outputs": [],
   "source": [
    "# rescale the data, use the traditional train/test split\n",
    "X_train, X_test = X[:60000], X[60000:]\n",
    "y_train, y_test = y[:60000], y[60000:]"
   ]
  },
  {
   "cell_type": "markdown",
   "metadata": {
    "pycharm": {
     "name": "#%% md\n"
    }
   },
   "source": [
    "### Building a Multi-layer Neural Networks and Training the model"
   ]
  },
  {
   "cell_type": "code",
   "execution_count": 11,
   "metadata": {
    "scrolled": true,
    "pycharm": {
     "name": "#%%\n"
    }
   },
   "outputs": [
    {
     "name": "stderr",
     "output_type": "stream",
     "text": [
      "/Users/wonjunjo/Library/Python/3.9/lib/python/site-packages/sklearn/neural_network/_multilayer_perceptron.py:1118: DataConversionWarning: A column-vector y was passed when a 1d array was expected. Please change the shape of y to (n_samples, ), for example using ravel().\n",
      "  y = column_or_1d(y, warn=True)\n"
     ]
    },
    {
     "name": "stdout",
     "output_type": "stream",
     "text": [
      "Iteration 1, loss = 0.58384482\n",
      "Iteration 2, loss = 0.27066267\n",
      "Iteration 3, loss = 0.21991119\n",
      "Iteration 4, loss = 0.18584383\n",
      "Iteration 5, loss = 0.15980513\n",
      "Iteration 6, loss = 0.14013787\n",
      "Iteration 7, loss = 0.12354878\n",
      "Iteration 8, loss = 0.11053100\n",
      "Iteration 9, loss = 0.09940894\n",
      "Iteration 10, loss = 0.09034450\n",
      "Iteration 11, loss = 0.08266005\n",
      "Iteration 12, loss = 0.07537817\n",
      "Iteration 13, loss = 0.06989139\n",
      "Iteration 14, loss = 0.06438875\n",
      "Iteration 15, loss = 0.05957101\n",
      "Iteration 16, loss = 0.05587369\n",
      "Iteration 17, loss = 0.05150477\n",
      "Iteration 18, loss = 0.04828902\n",
      "Iteration 19, loss = 0.04533914\n",
      "Iteration 20, loss = 0.04240524\n",
      "Iteration 21, loss = 0.03974401\n",
      "Iteration 22, loss = 0.03689032\n",
      "Iteration 23, loss = 0.03455141\n",
      "Iteration 24, loss = 0.03236965\n",
      "Iteration 25, loss = 0.03078264\n",
      "Iteration 26, loss = 0.02864525\n",
      "Iteration 27, loss = 0.02688902\n",
      "Iteration 28, loss = 0.02496853\n",
      "Iteration 29, loss = 0.02378442\n",
      "Iteration 30, loss = 0.02214019\n",
      "Iteration 31, loss = 0.02078791\n",
      "Iteration 32, loss = 0.01945330\n",
      "Iteration 33, loss = 0.01829438\n",
      "Iteration 34, loss = 0.01734743\n",
      "Iteration 35, loss = 0.01630519\n",
      "Iteration 36, loss = 0.01529549\n",
      "Iteration 37, loss = 0.01440047\n",
      "Iteration 38, loss = 0.01353327\n",
      "Iteration 39, loss = 0.01272049\n",
      "Iteration 40, loss = 0.01210071\n",
      "Iteration 41, loss = 0.01126566\n",
      "Iteration 42, loss = 0.01089150\n",
      "Iteration 43, loss = 0.01004163\n",
      "Iteration 44, loss = 0.00965106\n",
      "Iteration 45, loss = 0.00907425\n",
      "Iteration 46, loss = 0.00861962\n",
      "Iteration 47, loss = 0.00812985\n",
      "Iteration 48, loss = 0.00763634\n",
      "Iteration 49, loss = 0.00719830\n",
      "Iteration 50, loss = 0.00687546\n",
      "Iteration 51, loss = 0.00643519\n",
      "Iteration 52, loss = 0.00616979\n",
      "Iteration 53, loss = 0.00584904\n",
      "Iteration 54, loss = 0.00556586\n",
      "Iteration 55, loss = 0.00537284\n",
      "Iteration 56, loss = 0.00512724\n",
      "Iteration 57, loss = 0.00483854\n",
      "Iteration 58, loss = 0.00464964\n",
      "Iteration 59, loss = 0.00447048\n",
      "Iteration 60, loss = 0.00424356\n",
      "Iteration 61, loss = 0.00405768\n",
      "Iteration 62, loss = 0.00394366\n",
      "Iteration 63, loss = 0.00377628\n",
      "Iteration 64, loss = 0.00366364\n",
      "Iteration 65, loss = 0.00348850\n",
      "Iteration 66, loss = 0.00341374\n",
      "Iteration 67, loss = 0.00327226\n",
      "Iteration 68, loss = 0.00317244\n",
      "Iteration 69, loss = 0.00303457\n",
      "Iteration 70, loss = 0.00295856\n",
      "Iteration 71, loss = 0.00285860\n",
      "Iteration 72, loss = 0.00278351\n",
      "Iteration 73, loss = 0.00267185\n",
      "Iteration 74, loss = 0.00260122\n",
      "Iteration 75, loss = 0.00250744\n",
      "Iteration 76, loss = 0.00245092\n",
      "Iteration 77, loss = 0.00236295\n",
      "Iteration 78, loss = 0.00231790\n",
      "Iteration 79, loss = 0.00225746\n",
      "Iteration 80, loss = 0.00220598\n",
      "Iteration 81, loss = 0.00214305\n",
      "Iteration 82, loss = 0.00208023\n",
      "Iteration 83, loss = 0.00204230\n",
      "Iteration 84, loss = 0.00199167\n",
      "Training loss did not improve more than tol=0.000100 for 10 consecutive epochs. Stopping.\n"
     ]
    },
    {
     "data": {
      "text/plain": "MLPClassifier(hidden_layer_sizes=(100, 50), learning_rate_init=0.01,\n              max_iter=100, random_state=1, solver='sgd', verbose=True)",
      "text/html": "<style>#sk-container-id-1 {color: black;background-color: white;}#sk-container-id-1 pre{padding: 0;}#sk-container-id-1 div.sk-toggleable {background-color: white;}#sk-container-id-1 label.sk-toggleable__label {cursor: pointer;display: block;width: 100%;margin-bottom: 0;padding: 0.3em;box-sizing: border-box;text-align: center;}#sk-container-id-1 label.sk-toggleable__label-arrow:before {content: \"▸\";float: left;margin-right: 0.25em;color: #696969;}#sk-container-id-1 label.sk-toggleable__label-arrow:hover:before {color: black;}#sk-container-id-1 div.sk-estimator:hover label.sk-toggleable__label-arrow:before {color: black;}#sk-container-id-1 div.sk-toggleable__content {max-height: 0;max-width: 0;overflow: hidden;text-align: left;background-color: #f0f8ff;}#sk-container-id-1 div.sk-toggleable__content pre {margin: 0.2em;color: black;border-radius: 0.25em;background-color: #f0f8ff;}#sk-container-id-1 input.sk-toggleable__control:checked~div.sk-toggleable__content {max-height: 200px;max-width: 100%;overflow: auto;}#sk-container-id-1 input.sk-toggleable__control:checked~label.sk-toggleable__label-arrow:before {content: \"▾\";}#sk-container-id-1 div.sk-estimator input.sk-toggleable__control:checked~label.sk-toggleable__label {background-color: #d4ebff;}#sk-container-id-1 div.sk-label input.sk-toggleable__control:checked~label.sk-toggleable__label {background-color: #d4ebff;}#sk-container-id-1 input.sk-hidden--visually {border: 0;clip: rect(1px 1px 1px 1px);clip: rect(1px, 1px, 1px, 1px);height: 1px;margin: -1px;overflow: hidden;padding: 0;position: absolute;width: 1px;}#sk-container-id-1 div.sk-estimator {font-family: monospace;background-color: #f0f8ff;border: 1px dotted black;border-radius: 0.25em;box-sizing: border-box;margin-bottom: 0.5em;}#sk-container-id-1 div.sk-estimator:hover {background-color: #d4ebff;}#sk-container-id-1 div.sk-parallel-item::after {content: \"\";width: 100%;border-bottom: 1px solid gray;flex-grow: 1;}#sk-container-id-1 div.sk-label:hover label.sk-toggleable__label {background-color: #d4ebff;}#sk-container-id-1 div.sk-serial::before {content: \"\";position: absolute;border-left: 1px solid gray;box-sizing: border-box;top: 0;bottom: 0;left: 50%;z-index: 0;}#sk-container-id-1 div.sk-serial {display: flex;flex-direction: column;align-items: center;background-color: white;padding-right: 0.2em;padding-left: 0.2em;position: relative;}#sk-container-id-1 div.sk-item {position: relative;z-index: 1;}#sk-container-id-1 div.sk-parallel {display: flex;align-items: stretch;justify-content: center;background-color: white;position: relative;}#sk-container-id-1 div.sk-item::before, #sk-container-id-1 div.sk-parallel-item::before {content: \"\";position: absolute;border-left: 1px solid gray;box-sizing: border-box;top: 0;bottom: 0;left: 50%;z-index: -1;}#sk-container-id-1 div.sk-parallel-item {display: flex;flex-direction: column;z-index: 1;position: relative;background-color: white;}#sk-container-id-1 div.sk-parallel-item:first-child::after {align-self: flex-end;width: 50%;}#sk-container-id-1 div.sk-parallel-item:last-child::after {align-self: flex-start;width: 50%;}#sk-container-id-1 div.sk-parallel-item:only-child::after {width: 0;}#sk-container-id-1 div.sk-dashed-wrapped {border: 1px dashed gray;margin: 0 0.4em 0.5em 0.4em;box-sizing: border-box;padding-bottom: 0.4em;background-color: white;}#sk-container-id-1 div.sk-label label {font-family: monospace;font-weight: bold;display: inline-block;line-height: 1.2em;}#sk-container-id-1 div.sk-label-container {text-align: center;}#sk-container-id-1 div.sk-container {/* jupyter's `normalize.less` sets `[hidden] { display: none; }` but bootstrap.min.css set `[hidden] { display: none !important; }` so we also need the `!important` here to be able to override the default hidden behavior on the sphinx rendered scikit-learn.org. See: https://github.com/scikit-learn/scikit-learn/issues/21755 */display: inline-block !important;position: relative;}#sk-container-id-1 div.sk-text-repr-fallback {display: none;}</style><div id=\"sk-container-id-1\" class=\"sk-top-container\"><div class=\"sk-text-repr-fallback\"><pre>MLPClassifier(hidden_layer_sizes=(100, 50), learning_rate_init=0.01,\n              max_iter=100, random_state=1, solver=&#x27;sgd&#x27;, verbose=True)</pre><b>In a Jupyter environment, please rerun this cell to show the HTML representation or trust the notebook. <br />On GitHub, the HTML representation is unable to render, please try loading this page with nbviewer.org.</b></div><div class=\"sk-container\" hidden><div class=\"sk-item\"><div class=\"sk-estimator sk-toggleable\"><input class=\"sk-toggleable__control sk-hidden--visually\" id=\"sk-estimator-id-1\" type=\"checkbox\" checked><label for=\"sk-estimator-id-1\" class=\"sk-toggleable__label sk-toggleable__label-arrow\">MLPClassifier</label><div class=\"sk-toggleable__content\"><pre>MLPClassifier(hidden_layer_sizes=(100, 50), learning_rate_init=0.01,\n              max_iter=100, random_state=1, solver=&#x27;sgd&#x27;, verbose=True)</pre></div></div></div></div></div>"
     },
     "execution_count": 11,
     "metadata": {},
     "output_type": "execute_result"
    }
   ],
   "source": [
    "from sklearn.neural_network import MLPClassifier\n",
    "\n",
    "###################################################################################\n",
    "# fill your code here\n",
    "#\n",
    "\n",
    "# create the model - an instance of MLPClassifier \n",
    "# with hidden_layer (100, 50), max_iteration 100, solver 'sgd', learning rate 0.01\n",
    "# 모델 생성\n",
    "model = MLPClassifier(hidden_layer_sizes=(100, 50),\n",
    "                      max_iter=100,\n",
    "                      solver='sgd',\n",
    "                      learning_rate_init=0.01,\n",
    "                      verbose=True, # 진행률 메시지 출력\n",
    "                      random_state=1\n",
    "                      )\n",
    "\n",
    "# Train the model with the training data\n",
    "# 훈련\n",
    "model.fit(X_train, y_train)\n",
    "\n",
    "###################################################################################\n"
   ]
  },
  {
   "cell_type": "code",
   "execution_count": 12,
   "metadata": {
    "scrolled": true,
    "pycharm": {
     "name": "#%%\n"
    }
   },
   "outputs": [
    {
     "data": {
      "text/plain": "<Figure size 640x480 with 1 Axes>",
      "image/png": "[encoded data removed]"
     },
     "metadata": {},
     "output_type": "display_data"
    }
   ],
   "source": [
    "plt.plot(model.loss_curve_)\n",
    "plt.show()"
   ]
  },
  {
   "cell_type": "code",
   "execution_count": 13,
   "metadata": {
    "pycharm": {
     "name": "#%%\n"
    }
   },
   "outputs": [
    {
     "name": "stdout",
     "output_type": "stream",
     "text": [
      "Training set score: 0.999983\n",
      "Test set score: 0.977400\n"
     ]
    }
   ],
   "source": [
    "print(\"Training set score: %f\" % model.score(X_train, y_train))\n",
    "print(\"Test set score: %f\" % model.score(X_test, y_test))"
   ]
  },
  {
   "cell_type": "markdown",
   "metadata": {
    "pycharm": {
     "name": "#%% md\n"
    }
   },
   "source": [
    "### Prediction using the model"
   ]
  },
  {
   "cell_type": "code",
   "execution_count": 14,
   "metadata": {
    "pycharm": {
     "name": "#%%\n"
    }
   },
   "outputs": [
    {
     "data": {
      "text/plain": "<function matplotlib.pyplot.plot(*args, scalex=True, scaley=True, data=None, **kwargs)>"
     },
     "execution_count": 14,
     "metadata": {},
     "output_type": "execute_result"
    },
    {
     "data": {
      "text/plain": "<Figure size 640x480 with 1 Axes>",
      "image/png": "[encoded data removed]"
     },
     "metadata": {},
     "output_type": "display_data"
    }
   ],
   "source": [
    "%matplotlib inline \n",
    "ex1 = X[35000] \n",
    "ex1_image = ex1.reshape(28, 28) \n",
    "plt.imshow(ex1_image) \n",
    "plt.plot"
   ]
  },
  {
   "cell_type": "code",
   "execution_count": 15,
   "metadata": {
    "pycharm": {
     "name": "#%%\n"
    }
   },
   "outputs": [
    {
     "data": {
      "text/plain": "array([5.])"
     },
     "execution_count": 15,
     "metadata": {},
     "output_type": "execute_result"
    }
   ],
   "source": [
    "model.predict([ex1])"
   ]
  },
  {
   "cell_type": "code",
   "execution_count": 16,
   "metadata": {
    "pycharm": {
     "name": "#%%\n"
    }
   },
   "outputs": [
    {
     "data": {
      "text/plain": "<function matplotlib.pyplot.plot(*args, scalex=True, scaley=True, data=None, **kwargs)>"
     },
     "execution_count": 16,
     "metadata": {},
     "output_type": "execute_result"
    },
    {
     "data": {
      "text/plain": "<Figure size 640x480 with 1 Axes>",
      "image/png": "[encoded data removed]"
     },
     "metadata": {},
     "output_type": "display_data"
    }
   ],
   "source": [
    "%matplotlib inline \n",
    "ex2 = X[50000] \n",
    "ex2_image = ex2.reshape(28, 28) \n",
    "plt.imshow(ex2_image) \n",
    "plt.plot"
   ]
  },
  {
   "cell_type": "code",
   "execution_count": 17,
   "metadata": {
    "pycharm": {
     "name": "#%%\n"
    }
   },
   "outputs": [
    {
     "data": {
      "text/plain": "array([8.])"
     },
     "execution_count": 17,
     "metadata": {},
     "output_type": "execute_result"
    }
   ],
   "source": [
    "model.predict([ex2])"
   ]
  },
  {
   "cell_type": "code",
   "execution_count": 17,
   "metadata": {
    "pycharm": {
     "name": "#%%\n"
    }
   },
   "outputs": [],
   "source": []
  }
 ],
 "metadata": {
  "kernelspec": {
   "display_name": "Python 3 (ipykernel)",
   "language": "python",
   "name": "python3"
  },
  "language_info": {
   "codemirror_mode": {
    "name": "ipython",
    "version": 3
   },
   "file_extension": ".py",
   "mimetype": "text/x-python",
   "name": "python",
   "nbconvert_exporter": "python",
   "pygments_lexer": "ipython3",
   "version": "3.9.12"
  }
 },
 "nbformat": 4,
 "nbformat_minor": 2
}